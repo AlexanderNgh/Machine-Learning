{
  "nbformat": 4,
  "nbformat_minor": 0,
  "metadata": {
    "colab": {
      "provenance": [],
      "gpuType": "T4"
    },
    "kernelspec": {
      "name": "python3",
      "display_name": "Python 3"
    },
    "language_info": {
      "name": "python"
    },
    "accelerator": "GPU"
  },
  "cells": [
    {
      "cell_type": "code",
      "execution_count": null,
      "metadata": {
        "id": "iH_6kMzJpn3L"
      },
      "outputs": [],
      "source": [
        "import tensorflow as tf\n",
        "from tensorflow.keras import layers, Model, Input\n",
        "from tensorflow.keras.applications import ResNet50\n",
        "from tensorflow.keras.losses import SparseCategoricalCrossentropy\n",
        "from tensorflow.keras.metrics import MeanIoU\n",
        "\n"
      ]
    },
    {
      "cell_type": "code",
      "source": [
        "def multitask_resnet18(input_shape, num_classes):\n",
        "    # Load the ResNet-18 backbone\n",
        "    base_model = tf.keras.applications.ResNet50(include_top=False, input_shape=input_shape, weights='imagenet')\n",
        "    base_model.trainable = False\n",
        "\n",
        "    # Create the input layer\n",
        "    inputs = Input(shape=input_shape)\n",
        "\n",
        "    # Pass inputs through the ResNet backbone\n",
        "    x = base_model(inputs, training=False)\n",
        "\n",
        "    # Global average pooling layer\n",
        "    x_gap = layers.GlobalAveragePooling2D()(x)\n",
        "\n",
        "    # Classification head\n",
        "    classification_output = layers.Dense(num_classes, activation='softmax', name='classification')(x_gap)\n",
        "\n",
        "    # Segmentation head\n",
        "    # Reshape tensor to add spatial dimensions\n",
        "    x_seg = layers.Reshape((1, 1, x.shape[-1]))(x_gap)\n",
        "    x_seg = layers.Conv2DTranspose(512, (3, 3), strides=(2, 2), padding='same')(x)\n",
        "    x_seg = layers.Conv2DTranspose(256, (3, 3), strides=(2, 2), padding='same')(x_seg)\n",
        "    x_seg = layers.Conv2DTranspose(128, (3, 3), strides=(2, 2), padding='same')(x_seg)\n",
        "    x_seg = layers.Conv2DTranspose(64, (3, 3), strides=(2, 2), padding='same')(x_seg)\n",
        "    segmentation_output = layers.Conv2DTranspose(1, (3, 3), strides=(2, 2), activation='sigmoid', padding='same', name='segmentation')(x_seg)\n",
        "\n",
        "    # Combine inputs and outputs into a model\n",
        "    model = Model(inputs=inputs, outputs=[classification_output, segmentation_output])\n",
        "\n",
        "    return model\n",
        "\n",
        "# Define input shape and number of classes\n",
        "input_shape = (224, 224, 3)  # Example input shape for ResNet\n",
        "num_classes = 10  # Example number of classes for classification\n",
        "\n",
        "# Create the multitask model\n",
        "model = multitask_resnet18(input_shape, num_classes)\n",
        "\n",
        "# Compile the model\n",
        "model.compile(optimizer='adam',\n",
        "              loss={'classification': 'sparse_categorical_crossentropy',\n",
        "                    'segmentation': 'binary_crossentropy'},\n",
        "              metrics={'classification': 'accuracy',\n",
        "                       'segmentation': 'accuracy'})\n",
        "\n",
        "# Print the model summary\n",
        "model.summary()\n"
      ],
      "metadata": {
        "id": "PSFkfq9HoNv0",
        "outputId": "fa4d5fea-529d-44b6-ad58-763b35abddb2",
        "colab": {
          "base_uri": "https://localhost:8080/"
        }
      },
      "execution_count": null,
      "outputs": [
        {
          "output_type": "stream",
          "name": "stdout",
          "text": [
            "Model: \"model_1\"\n",
            "__________________________________________________________________________________________________\n",
            " Layer (type)                Output Shape                 Param #   Connected to                  \n",
            "==================================================================================================\n",
            " input_8 (InputLayer)        [(None, 224, 224, 3)]        0         []                            \n",
            "                                                                                                  \n",
            " resnet50 (Functional)       (None, 7, 7, 2048)           2358771   ['input_8[0][0]']             \n",
            "                                                          2                                       \n",
            "                                                                                                  \n",
            " conv2d_transpose_5 (Conv2D  (None, 14, 14, 512)          9437696   ['resnet50[0][0]']            \n",
            " Transpose)                                                                                       \n",
            "                                                                                                  \n",
            " conv2d_transpose_6 (Conv2D  (None, 28, 28, 256)          1179904   ['conv2d_transpose_5[0][0]']  \n",
            " Transpose)                                                                                       \n",
            "                                                                                                  \n",
            " conv2d_transpose_7 (Conv2D  (None, 56, 56, 128)          295040    ['conv2d_transpose_6[0][0]']  \n",
            " Transpose)                                                                                       \n",
            "                                                                                                  \n",
            " global_average_pooling2d_3  (None, 2048)                 0         ['resnet50[0][0]']            \n",
            "  (GlobalAveragePooling2D)                                                                        \n",
            "                                                                                                  \n",
            " conv2d_transpose_8 (Conv2D  (None, 112, 112, 64)         73792     ['conv2d_transpose_7[0][0]']  \n",
            " Transpose)                                                                                       \n",
            "                                                                                                  \n",
            " classification (Dense)      (None, 10)                   20490     ['global_average_pooling2d_3[0\n",
            "                                                                    ][0]']                        \n",
            "                                                                                                  \n",
            " segmentation (Conv2DTransp  (None, 224, 224, 1)          577       ['conv2d_transpose_8[0][0]']  \n",
            " ose)                                                                                             \n",
            "                                                                                                  \n",
            "==================================================================================================\n",
            "Total params: 34595211 (131.97 MB)\n",
            "Trainable params: 11007499 (41.99 MB)\n",
            "Non-trainable params: 23587712 (89.98 MB)\n",
            "__________________________________________________________________________________________________\n"
          ]
        }
      ]
    }
  ]
}